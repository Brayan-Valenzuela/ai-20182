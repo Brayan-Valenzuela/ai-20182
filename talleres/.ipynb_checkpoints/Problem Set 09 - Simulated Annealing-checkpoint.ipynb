{
 "cells": [
  {
   "cell_type": "markdown",
   "metadata": {},
   "source": [
    "# Problem Set 09 - Knapsack Problem con Simulated Annealing\n",
    "\n",
    "Resolveremos el mismo problema del Problem Set anterior pero con Simulated Annealing\n",
    "\n",
    "\n",
    "## EJECUTA ESTA CELDA PARA AUTENTICARTE CON TU CUENTA DE GMAIL"
   ]
  },
  {
   "cell_type": "code",
   "execution_count": null,
   "metadata": {},
   "outputs": [],
   "source": [
    "from mooclib import *\n",
    "import inspect, urllib\n",
    "html, auth_code, userinfo = google_authenticate(PORT_NUMBER=8080)\n",
    "html"
   ]
  },
  {
   "cell_type": "markdown",
   "metadata": {},
   "source": [
    "### Resolviendo NUEVAMENTE el problema de la mochila utilizando algoritmos geneticos\n",
    "\n",
    "<img src='../imgs/ks.jpg' style=\"width:700px;\">\n",
    "\n",
    "Tenemos $n$ objectos numerados del $0$ a $n-1$, con un tamaño $s_i$ y valor $v_i$ cada uno. Una solución cualquiera del problema es el vector $X=[x_0, x_2, ..., x_i, ... x_{n-1}]$, en donde $x_i \\in \\{0,1\\}$ indica si el objecto $i$ se incluye o no la mochila. Como la mochila tiene un volumen máximo, $KS_{vol}$ el problema se formula de la siguiente manera:\n",
    "\n",
    "$$ maximize \\; X \\;\\; \\sum_{i=0}^{n-1} x_i v_i$$\n",
    "\n",
    "$$subject \\; to \\;\\; \\sum_{i=0}^{n-1} x_i s_i \\le KS_{vol}$$\n",
    "\n",
    "El vector $S=[s_0, s_2, ..., s_i, ... s_{n-1}]$ representa los tamaños de todos los objectos y el vector $V=[v_0, v_2, ..., v_i, ... v_{n-1}]$, los valores.\n",
    "\n",
    "Fíjate a continuación cómo:\n",
    "\n",
    "- generamos vectores $S$ y $V$ aleatorios\n",
    "- generamos soluciones aleatorias\n",
    "- verificamos si las soluciones generadas son válidas"
   ]
  },
  {
   "cell_type": "markdown",
   "metadata": {},
   "source": [
    "### Ejercicio 1: Completa la función `KS_neighbour` para que genere una nueva solución válida\n",
    "\n",
    "La nueva solución ha de diferir como mucho en un bit. Puedes utilizar la función `KS_isvalid`."
   ]
  },
  {
   "cell_type": "code",
   "execution_count": 2,
   "metadata": {},
   "outputs": [],
   "source": [
    "def KS_isvalid(solution, object_volumes, KS_volume):\n",
    "    return np.sum(solution*object_volumes)<=KS_volume\n",
    "\n",
    "def KS_neighbour(solution, object_volumes, KS_volume):\n",
    "    new_solution =  ...\n",
    "    return new_solution \n",
    "\n",
    "import urllib, inspect\n",
    "src1 = urllib.quote_plus(inspect.getsource(KS_neighbour))"
   ]
  },
  {
   "cell_type": "markdown",
   "metadata": {},
   "source": [
    "#### evaluate your answer before submitting:"
   ]
  },
  {
   "cell_type": "code",
   "execution_count": null,
   "metadata": {},
   "outputs": [],
   "source": [
    "!./run CHECK_SOLUTION PS9_1 $src1"
   ]
  },
  {
   "cell_type": "markdown",
   "metadata": {},
   "source": [
    "#### submit your answer (you must be connected to internet)"
   ]
  },
  {
   "cell_type": "code",
   "execution_count": null,
   "metadata": {},
   "outputs": [],
   "source": [
    "!./run SUBMIT_SOLUTION PS9_1 $src1"
   ]
  },
  {
   "cell_type": "markdown",
   "metadata": {},
   "source": [
    "### Ejercicio 2: Completa la función `KS_simulated_annealing` para que llame a la función `run_sa` según se ilustra en las notas con los parámetros del problema KS\n",
    "\n",
    "Completa las funciones de coste e inicialización de la población con tus soluciones del ejercicio anterior."
   ]
  },
  {
   "cell_type": "code",
   "execution_count": 5,
   "metadata": {},
   "outputs": [],
   "source": [
    "%run ../code/sa.py\n",
    "\n",
    "\n",
    "def KS_isvalid(solution, object_volumes, KS_volume):\n",
    "    return np.sum(solution*object_volumes)<=KS_volume\n",
    "\n",
    "def KS_initialize_population(n_individuals, object_volumes, KS_volume):\n",
    "    pop_init = ....\n",
    "    return pop_init\n",
    "    \n",
    "\n",
    "def KS_cost(solution, object_values, object_volumes, KS_volume):\n",
    "    cost = ....\n",
    "    return cost\n",
    "\n",
    "def KS_simulated_annealing(n_individuals, n_cooling_steps, \n",
    "                           KS_object_volumes, KS_object_values, KS_volume,\n",
    "                           KS_init_function, KS_cost_function, KS_neighbour_function):\n",
    "    \n",
    "    # call run_sa ....\n",
    "    \n",
    "    return bests\n",
    "\n",
    "\n",
    "import urllib, inspect\n",
    "src2 = urllib.quote_plus(inspect.getsource(KS_initialize_population)+\"\\n\"+\n",
    "                         inspect.getsource(KS_cost)+\"\\n\"+\n",
    "                         inspect.getsource(KS_simulated_annealing)+\"\\n\"+\n",
    "                         inspect.getsource(KS_neighbour))\n",
    "\n"
   ]
  },
  {
   "cell_type": "markdown",
   "metadata": {},
   "source": [
    "comprueba tu código. Con los parámetros especificados, la media de los costes de las soluciones debería de estar entre 1600 y 1900"
   ]
  },
  {
   "cell_type": "code",
   "execution_count": 6,
   "metadata": {},
   "outputs": [
    {
     "data": {
      "application/vnd.jupyter.widget-view+json": {
       "model_id": "1a16454e6b454ed4b76889ed8446ce94",
       "version_major": 2,
       "version_minor": 0
      },
      "text/plain": [
       "HBox(children=(IntProgress(value=0, max=50), HTML(value=u'')))"
      ]
     },
     "metadata": {},
     "output_type": "display_data"
    },
    {
     "name": "stdout",
     "output_type": "stream",
     "text": [
      "\n",
      "1642.32\n"
     ]
    }
   ],
   "source": [
    "%run ../code/sa.py\n",
    "import numpy as np\n",
    "\n",
    "n_individuals     = 50\n",
    "n_cooling_steps   = 50\n",
    "n_objects         = 50\n",
    "KS_volume         = 100\n",
    "mutation_prob     = 0.1\n",
    "crossover_prob    = 0.5\n",
    "\n",
    "object_values  = np.array([36, 20, 47, 53, 55, 46, 48, 66,  1,  6, 13, 59, 95,  7, 54, 32, 76, 63, 76, 19,  2, 17, 16, 12, 78,\n",
    " 67, 44, 20, 41, 26, 24, 68, 55, 53, 35, 49, 46, 46, 16, 64, 41, 27,  8, 30, 76, 92, 85, 81, 84, 98])\n",
    "object_volumes = np.array([ 8, 47, 16,  8, 41, 11, 45, 34, 26, 48, 16,  8, 10, 13, 28,  6,  7, 11,  8, 27, 44, 30, 25, 23, 45,\n",
    "  3, 12, 12, 23,  3, 37, 10, 47, 46, 27, 10, 30,  8,  2, 47,  4, 44, 43, 37, 22, 20,  1, 17, 42, 27])\n",
    "\n",
    "bss = KS_simulated_annealing(n_individuals, n_cooling_steps, object_volumes, object_values, KS_volume,\n",
    "                            KS_initialize_population, KS_cost, KS_neighbour)\n",
    "\n",
    "print np.mean(bss)"
   ]
  },
  {
   "cell_type": "markdown",
   "metadata": {},
   "source": [
    "#### evaluate your answer before submitting:\n"
   ]
  },
  {
   "cell_type": "code",
   "execution_count": null,
   "metadata": {},
   "outputs": [],
   "source": [
    "!./run CHECK_SOLUTION PS9_2 $src2"
   ]
  },
  {
   "cell_type": "markdown",
   "metadata": {},
   "source": [
    "#### submit your answer (you must be connected to internet)"
   ]
  },
  {
   "cell_type": "code",
   "execution_count": null,
   "metadata": {},
   "outputs": [],
   "source": [
    "!./run SUBMIT_SOLUTION PS9_2 $src2"
   ]
  },
  {
   "cell_type": "markdown",
   "metadata": {},
   "source": [
    "## ya está!! ahora puedes experimentar con distintas configuraciones"
   ]
  },
  {
   "cell_type": "code",
   "execution_count": 9,
   "metadata": {},
   "outputs": [
    {
     "data": {
      "application/vnd.jupyter.widget-view+json": {
       "model_id": "acec05a153964ea1a5e2c81992d85721",
       "version_major": 2,
       "version_minor": 0
      },
      "text/plain": [
       "HBox(children=(IntProgress(value=0, max=500), HTML(value=u'')))"
      ]
     },
     "metadata": {},
     "output_type": "display_data"
    },
    {
     "name": "stdout",
     "output_type": "stream",
     "text": [
      "\n",
      "best knapsack cost 1454\n"
     ]
    },
    {
     "data": {
      "text/plain": [
       "[<matplotlib.lines.Line2D at 0x7f370adbb650>]"
      ]
     },
     "execution_count": 9,
     "metadata": {},
     "output_type": "execute_result"
    },
    {
     "data": {
      "image/png": "[encoded data removed]",
      "text/plain": [
       "<matplotlib.figure.Figure at 0x7f370ae29510>"
      ]
     },
     "metadata": {},
     "output_type": "display_data"
    }
   ],
   "source": [
    "%run ../code/sa.py\n",
    "import matplotlib.pyplot as plt\n",
    "%matplotlib inline\n",
    "\n",
    "n_individuals = 100\n",
    "n_cooling_steps = 500\n",
    "\n",
    "\n",
    "bests = KS_simulated_annealing(n_individuals, n_cooling_steps, object_volumes, object_values, KS_volume,\n",
    "                            KS_initialize_population, KS_cost, KS_neighbour)\n",
    "\n",
    "print \"best knapsack cost\", np.min(bests)\n",
    "plt.plot(bests)"
   ]
  },
  {
   "cell_type": "code",
   "execution_count": 10,
   "metadata": {},
   "outputs": [
    {
     "data": {
      "application/vnd.jupyter.widget-view+json": {
       "model_id": "fca7bde5c32f400e97fee1932d22214d",
       "version_major": 2,
       "version_minor": 0
      },
      "text/plain": [
       "HBox(children=(IntProgress(value=0, max=50), HTML(value=u'')))"
      ]
     },
     "metadata": {},
     "output_type": "display_data"
    },
    {
     "name": "stdout",
     "output_type": "stream",
     "text": [
      "\n",
      "best knapsack cost 1676\n"
     ]
    },
    {
     "data": {
      "text/plain": [
       "[<matplotlib.lines.Line2D at 0x7f37084ff990>]"
      ]
     },
     "execution_count": 10,
     "metadata": {},
     "output_type": "execute_result"
    },
    {
     "data": {
      "image/png": "[encoded data removed]",
      "text/plain": [
       "<matplotlib.figure.Figure at 0x7f3720ac8190>"
      ]
     },
     "metadata": {},
     "output_type": "display_data"
    }
   ],
   "source": [
    "%run ../code/sa.py\n",
    "import matplotlib.pyplot as plt\n",
    "%matplotlib inline\n",
    "\n",
    "n_individuals = 10\n",
    "n_cooling_steps = 50\n",
    "\n",
    "bests = KS_simulated_annealing(n_individuals, n_cooling_steps, object_volumes, object_values, KS_volume,\n",
    "                            KS_initialize_population, KS_cost, KS_neighbour)\n",
    "\n",
    "print \"best knapsack cost\", np.min(bests)\n",
    "plt.plot(bests)"
   ]
  },
  {
   "cell_type": "markdown",
   "metadata": {
    "collapsed": true
   },
   "source": [
    "\n",
    "---\n",
    "# <center> Thanks! </center>"
   ]
  }
 ],
 "metadata": {
  "kernelspec": {
   "display_name": "Python 2",
   "language": "python",
   "name": "python2"
  },
  "language_info": {
   "codemirror_mode": {
    "name": "ipython",
    "version": 2
   },
   "file_extension": ".py",
   "mimetype": "text/x-python",
   "name": "python",
   "nbconvert_exporter": "python",
   "pygments_lexer": "ipython2",
   "version": "2.7.14"
  },
  "toc": {
   "toc_cell": false,
   "toc_number_sections": true,
   "toc_threshold": 6,
   "toc_window_display": false
  },
  "widgets": {
   "state": {},
   "version": "1.1.2"
  }
 },
 "nbformat": 4,
 "nbformat_minor": 2
}
