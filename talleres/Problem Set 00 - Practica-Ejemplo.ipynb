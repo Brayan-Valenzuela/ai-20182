{
 "cells": [
  {
   "cell_type": "markdown",
   "metadata": {},
   "source": [
    "\n",
    "## Problem Set de Ejemplo\n",
    "\n",
    "## EJECUTA ESTA CELDA PARA AUTENTICARTE CON TU CUENTA DE GMAIL"
   ]
  },
  {
   "cell_type": "code",
   "execution_count": 10,
   "metadata": {},
   "outputs": [
    {
     "name": "stdout",
     "output_type": "stream",
     "text": [
      "CLICK ON THIS LINK TO AUTHENTICATE WITH YOUR GMAIL ACCOUNT\n",
      "https://accounts.google.com/o/oauth2/auth?scope=profile+email&redirect_uri=http%3A%2F%2F127.0.0.1%3A8080&response_type=code&client_id=486275613361-7nk9ktukfcfjevfoe3tamjp0pmbjmprs.apps.googleusercontent.com&access_type=offline\n",
      "waiting for authentication ...\n",
      "authentication succeeded\n"
     ]
    },
    {
     "data": {
      "text/html": [
       "<table><tr><td><img src='https://lh5.googleusercontent.com/-Yes_smyuDeM/AAAAAAAAAAI/AAAAAAAAAAA/APUIFaOxtiMy-mig5HE9jHse6sBAF3UN6Q/mo/photo.jpg' width=60 height=60/></td><td>famarcar@saber.uis.edu.co<br/>Fabio Martinez Carrillo<br/>google id: 102493400075642848756<br/>authorization code: 4/QwBN1sDtjxhnliSN4zaQd0CYct9T5Oh3RHQGOvNnglSqv5DRycnnDP2QcEgxC1jkC12AreE09GomY5fsgmAsGyw</td></tr></table>"
      ],
      "text/plain": [
       "<IPython.core.display.HTML object>"
      ]
     },
     "execution_count": 10,
     "metadata": {},
     "output_type": "execute_result"
    }
   ],
   "source": [
    "from mooclib import *\n",
    "import inspect, urllib\n",
    "html, auth_code, userinfo = google_authenticate(PORT_NUMBER=8080)\n",
    "html"
   ]
  },
  {
   "cell_type": "markdown",
   "metadata": {},
   "source": [
    "## <font style=\"color: red\"> Esta práctica contiene 1 ejercicio <!-- ONLY IN NOTEBOOK -->"
   ]
  },
  {
   "cell_type": "markdown",
   "metadata": {},
   "source": [
    "### Ejercicio 1: Suma dos matrices"
   ]
  },
  {
   "cell_type": "markdown",
   "metadata": {},
   "source": [
    "Completa la función `suma_matrices` para que, dadas dos arrays numpy cualquiera devuelva la suma elemento a elemento.\n",
    "\n",
    "#### Ejemplo de ejecución\n",
    "\n",
    "    > s = np.array([1,2,3])\n",
    "    > t = np.array([4,5,6])\n",
    "    > suma_matrices(s,t)\n",
    "    \n",
    "      [5 7 9]\n",
    "     \n",
    "_Sugerencia_: completa el código de la siguiente manera:\n",
    "\n",
    "    def suma_matrices(a,b):\n",
    "       ## --- TU CODIGO AQUI ---\n",
    "       result = a + b\n",
    "       return result"
   ]
  },
  {
   "cell_type": "code",
   "execution_count": 11,
   "metadata": {},
   "outputs": [],
   "source": [
    "import numpy as np\n",
    "\n",
    "def suma_matrices(a,b):\n",
    "    ## --- TU CODIGO AQUI ---\n",
    "    return a+b\n",
    "\n",
    "import urllib, inspect\n",
    "src1 = urllib.quote_plus(inspect.getsource(suma_matrices))"
   ]
  },
  {
   "cell_type": "markdown",
   "metadata": {},
   "source": [
    "#### check your answer before submitting:"
   ]
  },
  {
   "cell_type": "code",
   "execution_count": 15,
   "metadata": {},
   "outputs": [
    {
     "name": "stdout",
     "output_type": "stream",
     "text": [
      "evaluation result CORRECT\r\n"
     ]
    }
   ],
   "source": [
    "!./run CHECK_SOLUTION PS0_1 $src1"
   ]
  },
  {
   "cell_type": "markdown",
   "metadata": {},
   "source": [
    "#### submit your answer (you must be connected to internet)"
   ]
  },
  {
   "cell_type": "code",
   "execution_count": 16,
   "metadata": {},
   "outputs": [
    {
     "name": "stdout",
     "output_type": "stream",
     "text": [
      "connecting ... registering submission for famarcar@saber.uis.edu.co ...\n",
      "your submissions sheet is https://docs.google.com/spreadsheets/d/1NOHEuaUzUSLiMPJc9Yj_zXS2lvQevd1YScAcaplkQBw\n",
      "----\n",
      "evaluation result CORRECT , submission registered\n"
     ]
    }
   ],
   "source": [
    "!./run SUBMIT_SOLUTION PS0_1 $src1"
   ]
  },
  {
   "cell_type": "code",
   "execution_count": 7,
   "metadata": {},
   "outputs": [],
   "source": [
    "def say_hello():\n",
    "    ## --- TU CODIGO AQUI ---\n",
    "    result \n",
    "    return result\n",
    "\n",
    "import urllib, inspect\n",
    "src2 = urllib.quote_plus(inspect.getsource(say_hello))"
   ]
  },
  {
   "cell_type": "markdown",
   "metadata": {},
   "source": [
    "#### check your answer before submitting:"
   ]
  },
  {
   "cell_type": "code",
   "execution_count": 8,
   "metadata": {},
   "outputs": [
    {
     "name": "stdout",
     "output_type": "stream",
     "text": [
      "evaluation result CORRECT\r\n"
     ]
    }
   ],
   "source": [
    "!./run CHECK_SOLUTION PS0_2 $src2"
   ]
  },
  {
   "cell_type": "markdown",
   "metadata": {},
   "source": [
    "#### submit your answer (you must be connected to internet)"
   ]
  },
  {
   "cell_type": "code",
   "execution_count": 9,
   "metadata": {},
   "outputs": [
    {
     "name": "stdout",
     "output_type": "stream",
     "text": [
      "connecting ... registering submission for famarcar@saber.uis.edu.co ...\n",
      "your submissions sheet is https://docs.google.com/spreadsheets/d/1NOHEuaUzUSLiMPJc9Yj_zXS2lvQevd1YScAcaplkQBw\n",
      "----\n",
      "evaluation result CORRECT , submission registered\n"
     ]
    }
   ],
   "source": [
    "!./run SUBMIT_SOLUTION PS0_2 $src2"
   ]
  },
  {
   "cell_type": "code",
   "execution_count": null,
   "metadata": {},
   "outputs": [],
   "source": []
  }
 ],
 "metadata": {
  "kernelspec": {
   "display_name": "Python 2",
   "language": "python",
   "name": "python2"
  },
  "language_info": {
   "codemirror_mode": {
    "name": "ipython",
    "version": 2
   },
   "file_extension": ".py",
   "mimetype": "text/x-python",
   "name": "python",
   "nbconvert_exporter": "python",
   "pygments_lexer": "ipython2",
   "version": "2.7.14"
  },
  "toc": {
   "toc_cell": false,
   "toc_number_sections": true,
   "toc_threshold": 6,
   "toc_window_display": false
  }
 },
 "nbformat": 4,
 "nbformat_minor": 1
}
