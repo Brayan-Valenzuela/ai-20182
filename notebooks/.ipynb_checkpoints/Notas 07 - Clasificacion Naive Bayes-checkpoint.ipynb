{
 "cells": [
  {
   "cell_type": "markdown",
   "metadata": {},
   "source": [
    "We have data from two classes:\n",
    "    \n",
    "- **American trilobites**\n",
    "- **African trilobites**\n",
    "\n",
    "we will just consider we have one single descriptor, the length. Observe how we build the dataset from the separate files and drop some data to make the exercise with an unbalanced dataset"
   ]
  },
  {
   "cell_type": "code",
   "execution_count": 23,
   "metadata": {},
   "outputs": [],
   "source": [
    "import numpy as np\n",
    "import pandas as pd\n",
    "import matplotlib.pyplot as plt\n",
    "import scipy.stats as stats\n",
    "%matplotlib inline"
   ]
  },
  {
   "cell_type": "code",
   "execution_count": 24,
   "metadata": {},
   "outputs": [
    {
     "name": "stdout",
     "output_type": "stream",
     "text": [
      "(5000, 2)\n",
      "(10000, 2)\n",
      "(15000, 2)\n"
     ]
    },
    {
     "data": {
      "text/html": [
       "<div>\n",
       "<style scoped>\n",
       "    .dataframe tbody tr th:only-of-type {\n",
       "        vertical-align: middle;\n",
       "    }\n",
       "\n",
       "    .dataframe tbody tr th {\n",
       "        vertical-align: top;\n",
       "    }\n",
       "\n",
       "    .dataframe thead th {\n",
       "        text-align: right;\n",
       "    }\n",
       "</style>\n",
       "<table border=\"1\" class=\"dataframe\">\n",
       "  <thead>\n",
       "    <tr style=\"text-align: right;\">\n",
       "      <th></th>\n",
       "      <th>length</th>\n",
       "      <th>label</th>\n",
       "    </tr>\n",
       "  </thead>\n",
       "  <tbody>\n",
       "    <tr>\n",
       "      <th>0</th>\n",
       "      <td>4.768751</td>\n",
       "      <td>1</td>\n",
       "    </tr>\n",
       "    <tr>\n",
       "      <th>1</th>\n",
       "      <td>2.890770</td>\n",
       "      <td>1</td>\n",
       "    </tr>\n",
       "    <tr>\n",
       "      <th>2</th>\n",
       "      <td>2.890469</td>\n",
       "      <td>0</td>\n",
       "    </tr>\n",
       "    <tr>\n",
       "      <th>3</th>\n",
       "      <td>3.626960</td>\n",
       "      <td>1</td>\n",
       "    </tr>\n",
       "    <tr>\n",
       "      <th>4</th>\n",
       "      <td>2.820356</td>\n",
       "      <td>0</td>\n",
       "    </tr>\n",
       "  </tbody>\n",
       "</table>\n",
       "</div>"
      ],
      "text/plain": [
       "     length  label\n",
       "0  4.768751      1\n",
       "1  2.890770      1\n",
       "2  2.890469      0\n",
       "3  3.626960      1\n",
       "4  2.820356      0"
      ]
     },
     "execution_count": 24,
     "metadata": {},
     "output_type": "execute_result"
    }
   ],
   "source": [
    "tr1 = pd.read_csv(\"data/trilobites1.csv.gz\").sample(frac=.5)\n",
    "print(tr1.shape)\n",
    "tr1[\"label\"] = 0\n",
    "tr2 = pd.read_csv(\"data/trilobites2.csv.gz\")\n",
    "print(tr2.shape)\n",
    "tr2[\"label\"] = 1\n",
    "d = pd.concat((tr1, tr2)).sample(frac=1).reset_index(drop=True)\n",
    "del(d[\"width\"])\n",
    "print d.shape\n",
    "d.head()"
   ]
  },
  {
   "cell_type": "code",
   "execution_count": 39,
   "metadata": {},
   "outputs": [
    {
     "name": "stderr",
     "output_type": "stream",
     "text": [
      "/usr/local/lib/python2.7/dist-packages/matplotlib/axes/_axes.py:6448: UserWarning: The 'normed' kwarg is deprecated, and has been replaced by the 'density' kwarg.\n",
      "  warnings.warn(\"The 'normed' kwarg is deprecated, and has been \"\n"
     ]
    },
    {
     "data": {
      "text/plain": [
       "Text(0.5,0,'length')"
      ]
     },
     "execution_count": 39,
     "metadata": {},
     "output_type": "execute_result"
    },
    {
     "data": {
      "image/png": "[encoded data removed]",
      "text/plain": [
       "<Figure size 1080x216 with 2 Axes>"
      ]
     },
     "metadata": {},
     "output_type": "display_data"
    }
   ],
   "source": [
    "plt.figure(figsize=(15,3))\n",
    "plt.subplot(121)\n",
    "plt.hist(d[d.label==0].length.values, bins=30, normed=True)\n",
    "plt.title(\"american trilobites (label=0)\")\n",
    "plt.xlabel(\"length\")\n",
    "plt.subplot(122)\n",
    "plt.hist(d[d.label==1].length.values, bins=30, normed=True);\n",
    "plt.title(\"african trilobites (label=1)\")\n",
    "plt.xlabel(\"length\")\n"
   ]
  },
  {
   "cell_type": "markdown",
   "metadata": {},
   "source": [
    "Given a new trilobite $x$ for which we do not know its class, Naive Bayes works as follows to estimate it:\n",
    "    \n",
    "- Estimate $P(0|x)$ and $P(1|x)$, the probability of the class being 0 or 1 given the piece of data that we have now ($x$)\n",
    "- Choose the one with highest probability.\n",
    "\n",
    "Stop and think from a Bayesian perspective. What information we had before seeing $x$?\n",
    "\n",
    "Using Bayes:\n",
    "\n",
    "$$P(0|x) = \\frac{P(x|0) P(0)}{P(x)} \\;\\;\\;\\;\\;\\;\\;\\;P(1|x) = \\frac{P(x|1) P(1)}{P(x)}$$\n",
    "\n",
    "- $P(0)$ and $P(1)$ is the probability of seen an american or an african trilobite\n",
    "- $P(x|0)$ is the probability of our new trilobite $x$ belonging to class 0. $P(x|1)$ likewise for class 1.\n",
    "- $P(x)$ is the absolute probability of $x$.\n",
    "\n",
    "How can we compute each term so that we can estimate $P(0|x)$ and $P(1|x)$?\n",
    "\n",
    "- for $P(0)$ and $P(1)$ we can use the frequencies of appearance observed in our dataset\n",
    "- for $P(x|0)$ (or $P(x|1)$ we do not know their distributions (their shape in the charts above). We can **assume they are Gaussian** and use the corresponding PDF to compute probabilities.\n",
    "- $P(x)$ is very hard, but we do not really need it as it is a common factor of $P(0|x)$ and $P(1|x)$, $\\in [0,1]$, and we are only interested in their comparison.\n",
    "\n",
    "Now, for the Gaussian PDF of $P(x|0)$ we need two parameters: $\\mu_0$ and $\\sigma_0$, which we can estimate using the corresponding items from our dataset.\n",
    "\n",
    "Let's say our new trilobite has a length of 3.5"
   ]
  },
  {
   "cell_type": "code",
   "execution_count": 26,
   "metadata": {},
   "outputs": [],
   "source": [
    "x = 3.5"
   ]
  },
  {
   "cell_type": "markdown",
   "metadata": {},
   "source": [
    "estimate $P(0)$ and $P(1)$, must correspond to the observed frequencies of our classes"
   ]
  },
  {
   "cell_type": "code",
   "execution_count": 31,
   "metadata": {},
   "outputs": [
    {
     "name": "stdout",
     "output_type": "stream",
     "text": [
      "(5000,)\n",
      "0.333 0.667\n"
     ]
    }
   ],
   "source": [
    "p_0 = np.mean(d.label==0)\n",
    "p_1 = np.mean(d.label==1)\n",
    "print \"%.3f %.3f\"%(p_0, p_1)"
   ]
  },
  {
   "cell_type": "markdown",
   "metadata": {},
   "source": [
    "build the corresponding PDFs for each class using our dataset"
   ]
  },
  {
   "cell_type": "code",
   "execution_count": 36,
   "metadata": {},
   "outputs": [],
   "source": [
    "lengths0, lengths1 = d[d.label==0].length, d[d.label==1].length\n",
    "pdf0 = stats.norm(loc=np.mean(lengths0), scale=np.std(lengths0)).pdf\n",
    "pdf1 = stats.norm(loc=np.mean(lengths1), scale=np.std(lengths1)).pdf\n"
   ]
  },
  {
   "cell_type": "markdown",
   "metadata": {},
   "source": [
    "estimate $P(x|0)$ and $P(x|1)$"
   ]
  },
  {
   "cell_type": "code",
   "execution_count": 38,
   "metadata": {},
   "outputs": [
    {
     "name": "stdout",
     "output_type": "stream",
     "text": [
      "0.496 0.362\n"
     ]
    }
   ],
   "source": [
    "p_x_given_0 = pdf0(x)\n",
    "p_x_given_1 = pdf1(x)\n",
    "print \"%.3f %.3f\"%(p_x_given_0, p_x_given_1)\n"
   ]
  },
  {
   "cell_type": "markdown",
   "metadata": {},
   "source": [
    "and finally"
   ]
  },
  {
   "cell_type": "code",
   "execution_count": 8,
   "metadata": {},
   "outputs": [
    {
     "name": "stdout",
     "output_type": "stream",
     "text": [
      "0.162 0.241\n",
      "predicted class: 1\n"
     ]
    }
   ],
   "source": [
    "p_0_given_x = p_x_given_0 * p_0\n",
    "p_1_given_x = p_x_given_1 * p_1\n",
    "print \"%.3f %.3f\"%(p_0_given_x, p_1_given_x)\n",
    "print \"predicted class:\", 0 if p_0_given_x>p_1_given_x else 1"
   ]
  },
  {
   "cell_type": "markdown",
   "metadata": {},
   "source": [
    "in fact, plotting $P(0|x)$ and $P(0|x)$ we see we are simply establishing a threshold"
   ]
  },
  {
   "cell_type": "code",
   "execution_count": 9,
   "metadata": {},
   "outputs": [
    {
     "data": {
      "text/plain": [
       "<matplotlib.legend.Legend at 0x7fb2c75c59d0>"
      ]
     },
     "execution_count": 9,
     "metadata": {},
     "output_type": "execute_result"
    },
    {
     "data": {
      "image/png": "[encoded data removed]",
      "text/plain": [
       "<matplotlib.figure.Figure at 0x7fb2c97c4dd0>"
      ]
     },
     "metadata": {},
     "output_type": "display_data"
    }
   ],
   "source": [
    "xr = np.linspace(np.min(d.length), np.max(d.length),100)\n",
    "p_0_given_x = np.r_[[pdf0(i)*p_0 for i in xr]]\n",
    "p_1_given_x = np.r_[[pdf1(i)*p_1 for i in xr]]\n",
    "plt.plot(xr, p_0_given_x, lw=2, label=\"$P(0|x)P(0)$\", color=\"red\", alpha=.5)\n",
    "plt.plot(xr, p_1_given_x, lw=2, label=\"$P(1|x)P(1)$\", color=\"blue\", alpha=.5)\n",
    "\n",
    "xr0 = xr[(p_0_given_x - p_1_given_x)>=0]\n",
    "xr1 = xr[(p_0_given_x - p_1_given_x)<0]\n",
    "plt.scatter(xr0, [-.01]*len(xr0), s=10, color=\"red\", label=\"predict 0\", marker=\"s\", alpha=.5)\n",
    "plt.scatter(xr1, [-.01]*len(xr1), s=10, color=\"blue\", label=\"predict 1\", marker=\"s\", alpha=.5)\n",
    "plt.xlabel(\"trilobite length\")\n",
    "plt.ylabel(\"scaled probability\")\n",
    "plt.title(\"decision boundaries\")\n",
    "\n",
    "conf = p_0_given_x/(p_0_given_x + p_1_given_x) * ((p_0_given_x - p_1_given_x)>=0) + \\\n",
    "       p_1_given_x/(p_0_given_x + p_1_given_x) * ((p_0_given_x - p_1_given_x)<0)\n",
    "conf = (conf-np.min(conf))/6 - .11\n",
    "plt.plot(xr, conf, color=\"black\", ls=\"--\", label=\"confidence of prediction (scaled)\")\n",
    "#plt.plot(xr, p_1_given_x/(p_0_given_x + p_1_given_x), color=\"blue\", ls=\"--\", label=\"confidence of prediction 1\")\n",
    "plt.legend(loc=\"center left\", bbox_to_anchor=(1,.5))"
   ]
  },
  {
   "cell_type": "markdown",
   "metadata": {},
   "source": [
    "observe, however, that we are plotting scaled up to an unknown constant $P(x)$, but the proportions are results are unaffected.\n",
    "\n",
    "also, if $P(0)=P(1)$ (both classes are equally present in our dataset), those terms could also be dropped.\n",
    "\n",
    "however, **recall we made assumptions**. If they do not hold, our classifier will do poorly"
   ]
  },
  {
   "cell_type": "code",
   "execution_count": null,
   "metadata": {
    "collapsed": true
   },
   "outputs": [],
   "source": []
  }
 ],
 "metadata": {
  "kernelspec": {
   "display_name": "Python 2",
   "language": "python",
   "name": "python2"
  },
  "language_info": {
   "codemirror_mode": {
    "name": "ipython",
    "version": 2
   },
   "file_extension": ".py",
   "mimetype": "text/x-python",
   "name": "python",
   "nbconvert_exporter": "python",
   "pygments_lexer": "ipython2",
   "version": "2.7.14"
  },
  "widgets": {
   "state": {},
   "version": "1.1.2"
  }
 },
 "nbformat": 4,
 "nbformat_minor": 2
}
